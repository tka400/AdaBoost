{
 "cells": [
  {
   "cell_type": "code",
   "execution_count": 189,
   "metadata": {},
   "outputs": [],
   "source": [
    "from sklearn import datasets\n",
    "from sklearn.model_selection import train_test_split\n",
    "import numpy as np\n",
    "import matplotlib.pyplot as plt\n",
    "from tqdm import tqdm\n",
    "import pandas as pd"
   ]
  },
  {
   "cell_type": "code",
   "execution_count": 219,
   "metadata": {},
   "outputs": [],
   "source": [
    "X, y = datasets.make_classification(n_samples=5000, n_features=10, n_informative=5)\n",
    "X_train, X_test, y_train, y_test = train_test_split(X, y, test_size=0.1)"
   ]
  },
  {
   "cell_type": "code",
   "execution_count": 220,
   "metadata": {
    "code_folding": [
     0
    ]
   },
   "outputs": [],
   "source": [
    "class Node:\n",
    "    def __init__(self, feature=None, threshold=None, left=None, right=None, *, value=None):\n",
    "        self.feature = feature\n",
    "        self.threshold = threshold\n",
    "        self.left = left\n",
    "        self.right = right\n",
    "        self.value = value\n",
    "    \n",
    "    def is_leaf_node(self):\n",
    "        return self.value is not None"
   ]
  },
  {
   "cell_type": "code",
   "execution_count": 221,
   "metadata": {
    "code_folding": [
     0
    ],
    "run_control": {
     "marked": false
    }
   },
   "outputs": [],
   "source": [
    "class DecisionTree:\n",
    "    def __init__(self, min_samples=2, max_depth=20):\n",
    "        self.min_samples = min_samples\n",
    "        self.max_depth = max_depth\n",
    "        self.tree = []\n",
    "    \n",
    "    def fit(self, X, y):\n",
    "        self.tree = self.grow_tree(X, y)\n",
    "    \n",
    "    def predict(self, X):\n",
    "        return np.array([self.travers_tree(x, self.tree) for x in X])\n",
    "    \n",
    "    def constant_prediction(self, y):\n",
    "        return np.sum(y) / len(y)\n",
    "\n",
    "    def loss_function(self, y):\n",
    "        c = np.sum(y) / len(y)\n",
    "        mse = np.sum((c - y)**2) / len(y)\n",
    "        mae = np.sum(np.abs(c - y)) / len(y)\n",
    "        return mse\n",
    "    \n",
    "    def best_split(self, X, y):\n",
    "        best_feature, best_threshold = None, None\n",
    "        best_gain = -1\n",
    "               \n",
    "        for i in range(X.shape[1]):\n",
    "            thresholds = np.unique(X[:, i])\n",
    "            for threshold in thresholds:\n",
    "                gain = self.information_gain(X[:, i], y, threshold)\n",
    "                if gain > best_gain:\n",
    "                    best_gain = gain\n",
    "                    best_feature = i\n",
    "                    best_threshold = threshold\n",
    "        return best_feature, best_threshold\n",
    "    \n",
    "    def information_gain(self, X_column, y, threshold):        \n",
    "        n = len(y)\n",
    "        parent = self.loss_function(y)\n",
    "        \n",
    "        left_indexes = np.argwhere(X_column <= threshold).flatten()\n",
    "        right_indexes = np.argwhere(X_column > threshold).flatten()\n",
    "        \n",
    "        if len(left_indexes) == 0 or len(right_indexes) == 0:\n",
    "            return 0\n",
    "        \n",
    "        e_l, n_l = self.loss_function(y[left_indexes]), len(left_indexes)\n",
    "        e_r, n_r = self.loss_function(y[right_indexes]), len(right_indexes)\n",
    "        \n",
    "        child = (n_l / n) * e_l + (n_r / n) * e_r\n",
    "        return parent - child\n",
    "    \n",
    "    def grow_tree(self, X, y, depth=0):\n",
    "        n_samples = X.shape[0]\n",
    "        n_labels = len(np.unique(y))\n",
    "        \n",
    "        if n_samples < self.min_samples or n_labels == 1 or depth >= self.max_depth:\n",
    "            return Node(value=self.constant_prediction(y))\n",
    "        \n",
    "        best_feature, best_threshold = self.best_split(X, y)\n",
    "        \n",
    "        left_indexes = np.argwhere(X[:, best_feature] <= best_threshold).flatten()\n",
    "        right_indexes = np.argwhere(X[:, best_feature] > best_threshold).flatten()\n",
    "        \n",
    "        left = self.grow_tree(X[left_indexes, :], y[left_indexes], depth+1)\n",
    "        right = self.grow_tree(X[right_indexes, :], y[right_indexes], depth+1)\n",
    "        \n",
    "        return Node(best_feature, best_threshold, left, right)\n",
    "    \n",
    "    def travers_tree(self, x, tree):\n",
    "        if tree.is_leaf_node():\n",
    "            return tree.value\n",
    "        \n",
    "        if x[tree.feature] <= tree.threshold:\n",
    "            return self.travers_tree(x, tree.left)\n",
    "        return self.travers_tree(x, tree.right)"
   ]
  },
  {
   "cell_type": "code",
   "execution_count": 222,
   "metadata": {
    "code_folding": [
     0
    ],
    "pycharm": {
     "name": "#%%\n"
    },
    "run_control": {
     "marked": false
    }
   },
   "outputs": [],
   "source": [
    "class GBM:\n",
    "    def __init__(self, n_estimators=10, max_depth=3, min_samples=1, lr=0.1):\n",
    "        self.n_estimators = n_estimators\n",
    "        self.max_depth = max_depth\n",
    "        self.min_samples = min_samples\n",
    "        self.trees = []\n",
    "        self.residuals = []\n",
    "        self.first_leaf = None\n",
    "        self.lr = 0.1\n",
    "        self.train_score = []\n",
    "        self.threshold = None\n",
    "        \n",
    "    def fit(self, X, y):\n",
    "        self.first_leaf = y.mean()\n",
    "        prediction = np.ones(len(y)) * self.first_leaf\n",
    "        \n",
    "        for i in range(self.n_estimators):\n",
    "            residuals = y - prediction\n",
    "            self.residuals.append(residuals)\n",
    "            \n",
    "            tree = DecisionTree(max_depth=self.max_depth, min_samples=self.min_samples)\n",
    "            tree.fit(X, residuals)\n",
    "            self.trees.append(tree)\n",
    "            self.train_score.append(self.score(self.predict(X, len(self.trees)), y))\n",
    "            \n",
    "            prediction += self.lr * tree.predict(X)\n",
    "            \n",
    "    def predict(self, X, n=None):\n",
    "        if n is None: n = self.n_estimators\n",
    "        predictions = np.ones(X.shape[0]) * self.first_leaf\n",
    "        \n",
    "        for i in range(n):\n",
    "            predictions += self.lr * self.trees[i].predict(X)\n",
    "        \n",
    "        self.threshold = np.mean(predictions)\n",
    "        labels = [0 if i <= self.threshold else 1 for i in predictions]\n",
    "        \n",
    "        return labels\n",
    "    \n",
    "    def score(self, predicted, y):\n",
    "        return np.sum(predicted == y) / len(y)\n",
    "    \n",
    "    def roc(self, X, y, n=None, threshold=None):\n",
    "        if n is None: n = self.n_estimators\n",
    "        predictions = np.ones(X.shape[0]) * self.first_leaf\n",
    "        \n",
    "        for i in range(n):\n",
    "            predictions += self.lr * self.trees[i].predict(X)\n",
    "            \n",
    "        indexes = np.argsort(predictions)    \n",
    "        \n",
    "        TPR, FPR, P, R = [], [], [], []\n",
    "        \n",
    "        if threshold is None:\n",
    "            threshold = predictions[indexes]\n",
    "        \n",
    "        for gap in threshold:\n",
    "            labels = [0 if i <= gap else 1 for i in predictions]\n",
    "            \n",
    "            TP, FP, FN, TN = 0, 0, 0, 0\n",
    "            \n",
    "            for i in range(len(labels)):\n",
    "                if labels[i] == 0 and y[i] == 0: TP += 1\n",
    "                if labels[i] == 1 and y[i] == 1: TN += 1\n",
    "                if labels[i] == 0 and y[i] == 1: FP += 1\n",
    "                if labels[i] == 1 and y[i] == 0: FN += 1                        \n",
    "            \n",
    "            TPR.append(TP / (TP + FN))\n",
    "            FPR.append(FP / (FP + TN))\n",
    "            R.append(TP / (TP + FN))\n",
    "            P.append(TP / (TP + FP))\n",
    "        \n",
    "#         self.plot_grapths(TPR, FPR, P, R)\n",
    "        \n",
    "        return TPR, FPR, P, R\n",
    "\n",
    "    def plot_grapths(self, TPR, FPR, P, R):\n",
    "        plt.subplots(figsize=(4, 4))\n",
    "        plt.plot(FPR, TPR, label=\"ROC curve\")\n",
    "        plt.plot(R, P, label=\"PRC curve\")\n",
    "\n",
    "        plt.xlabel(\"FPR or reccal\")\n",
    "        plt.ylabel(\"TPR or precision\")\n",
    "        plt.title(\"ROC and PRC curves\")\n",
    "        plt.legend()\n",
    "        plt.show()        \n",
    "    \n",
    "    def closest(self, p, r):\n",
    "        index_of = 0\n",
    "        delta = np.abs(p[index_of] - r[index_of])\n",
    "        n = len(p)\n",
    "        \n",
    "        for i in range(n):\n",
    "            if np.abs(p[i] - r[i]) < delta:\n",
    "                delta = np.abs(p[i] - r[i])\n",
    "                index_of = i\n",
    "        return index_of\n",
    "\n",
    "    def cv(self, X, y, cv=5):\n",
    "        y = np.reshape(y, (len(y), 1))\n",
    "        data = np.concatenate((X, y), axis=1)\n",
    "        np.random.shuffle(data)\n",
    "        \n",
    "        data = pd.DataFrame(data)\n",
    "        accuracy = []\n",
    "        \n",
    "        P, R = [], []\n",
    "        \n",
    "        for i in tqdm(range(cv)):\n",
    "            lenght = int(len(y) / cv)\n",
    "            \n",
    "            end = i * lenght + lenght\n",
    "            \n",
    "            if i == cv - 1: \n",
    "                end = -1\n",
    "            \n",
    "            X_test = data.iloc[i * lenght: end, :-1]\n",
    "            X_train = data.drop(index=X_test.index).iloc[:, :-1]\n",
    "            \n",
    "            y_test = data.iloc[i * lenght: end, -1]\n",
    "            y_train = data.drop(index=X_test.index).iloc[:, -1]\n",
    "            \n",
    "            clf = GBT()\n",
    "            clf.fit(np.array(X_train), np.array(y_train))\n",
    "            \n",
    "            x1, x2, p, r = clf.roc(np.array(X_test),\n",
    "                                   np.array(y_test),\n",
    "                                   clf.n_estimators,\n",
    "                                   [clf.threshold])\n",
    "            \n",
    "            P.append(p)\n",
    "            R.append(r)\n",
    "        \n",
    "        return np.array(P).flatten(), np.array(R).flatten()"
   ]
  },
  {
   "cell_type": "code",
   "execution_count": 223,
   "metadata": {
    "scrolled": false
   },
   "outputs": [
    {
     "name": "stderr",
     "output_type": "stream",
     "text": [
      "100%|█████████████████████████████████████████████████████████████████████████████████| 10/10 [54:54<00:00, 329.43s/it]\n"
     ]
    }
   ],
   "source": [
    "clf = GBM(n_estimators=30, max_depth=3, lr=0.1)\n",
    "P, R = clf.cv(X, y, cv=10)"
   ]
  },
  {
   "cell_type": "code",
   "execution_count": 224,
   "metadata": {},
   "outputs": [
    {
     "data": {
      "image/png": "[encoded data removed]",
      "text/plain": [
       "<Figure size 432x288 with 1 Axes>"
      ]
     },
     "metadata": {
      "needs_background": "light"
     },
     "output_type": "display_data"
    }
   ],
   "source": [
    "plt.hist(R, label=\"recall\", bins=20, histtype=\"step\")\n",
    "plt.hist(P, label=\"precision\", bins=20, histtype=\"step\")\n",
    "plt.legend()\n",
    "plt.xlim(0.8, 1.05)\n",
    "plt.show()"
   ]
  },
  {
   "cell_type": "code",
   "execution_count": null,
   "metadata": {},
   "outputs": [],
   "source": []
  },
  {
   "cell_type": "code",
   "execution_count": null,
   "metadata": {},
   "outputs": [],
   "source": [
    "reg = GBM(n_estimators=30, max_depth=3, lr=0.1)\n",
    "reg.fit(X_train, y_train)"
   ]
  },
  {
   "cell_type": "code",
   "execution_count": null,
   "metadata": {},
   "outputs": [],
   "source": [
    "plt.subplots(figsize=(4, 4))\n",
    "plt.plot(reg.residuals)\n",
    "plt.xlabel(\"n estimators\")\n",
    "plt.ylabel(\"residuals\")\n",
    "plt.show()"
   ]
  },
  {
   "cell_type": "code",
   "execution_count": 153,
   "metadata": {
    "code_folding": []
   },
   "outputs": [],
   "source": [
    "test_score = []\n",
    "\n",
    "for i in range(len(reg.trees)):\n",
    "    predict = reg.predict(X_test, i)\n",
    "    test_score.append(reg.score(predict, y_test))"
   ]
  },
  {
   "cell_type": "code",
   "execution_count": 154,
   "metadata": {
    "code_folding": [
     0
    ]
   },
   "outputs": [
    {
     "data": {
      "image/png": "[encoded data removed]",
      "text/plain": [
       "<Figure size 936x288 with 3 Axes>"
      ]
     },
     "metadata": {
      "needs_background": "light"
     },
     "output_type": "display_data"
    }
   ],
   "source": [
    "def plot_three_some():\n",
    "    fig, axes = plt.subplots(nrows=1, ncols=3, figsize=(13, 4))\n",
    "\n",
    "    axes[0].plot(1 - np.array(reg.train_score), label=\"train error\")\n",
    "    axes[0].plot(1 - np.array(test_score), label=\"test error\")\n",
    "    axes[0].set_ylabel(\"error\")\n",
    "    axes[0].set_xlabel(\"n estimators\")\n",
    "    axes[0].legend()\n",
    "\n",
    "    TPR, FPR, P, R = reg.roc(X_test, y_test, len(reg.trees))\n",
    "    \n",
    "    axes[1].plot(FPR, TPR)\n",
    "    axes[1].set_xlabel(\"FPR\")\n",
    "    axes[1].set_ylabel(\"TPR\")\n",
    "    axes[1].set_title(\"ROC\")\n",
    "\n",
    "    axes[2].plot(R, P, \"r\")\n",
    "    axes[2].set_xlabel(\"R\")\n",
    "    axes[2].set_ylabel(\"P\")\n",
    "    axes[2].set_title(\"PRC\")\n",
    "    plt.show()\n",
    "    \n",
    "plot_three_some()"
   ]
  },
  {
   "cell_type": "code",
   "execution_count": null,
   "metadata": {},
   "outputs": [],
   "source": []
  },
  {
   "cell_type": "code",
   "execution_count": 216,
   "metadata": {},
   "outputs": [],
   "source": [
    "N = len(y_test)\n",
    "B = 100"
   ]
  },
  {
   "cell_type": "code",
   "execution_count": 217,
   "metadata": {
    "scrolled": true
   },
   "outputs": [
    {
     "name": "stderr",
     "output_type": "stream",
     "text": [
      "100%|███████████████████████████████████████████████████████████████████████████████| 100/100 [00:00<00:00, 511.52it/s]\n"
     ]
    }
   ],
   "source": [
    "P, R, S = [], [], []\n",
    "\n",
    "for i in tqdm(range(B)):\n",
    "    bootstraps = np.random.poisson(1, N)\n",
    "    TP, FP, TN, FN = 0, 0, 0, 0\n",
    "    \n",
    "    for j in range(N):\n",
    "        if predict[j] == 0 and y_test[j] == 0: TP += bootstraps[j]\n",
    "        if predict[j] == 1 and y_test[j] == 1: TN += bootstraps[j]\n",
    "        if predict[j] == 1 and y_test[j] == 0: FN += bootstraps[j]\n",
    "        if predict[j] == 0 and y_test[j] == 1: FP += bootstraps[j]\n",
    "        \n",
    "    P.append(TP / (TP + FP))\n",
    "    R.append(TP / (TP + FN))\n",
    "    S.append(TN / (TN + FP))"
   ]
  },
  {
   "cell_type": "code",
   "execution_count": 218,
   "metadata": {},
   "outputs": [
    {
     "data": {
      "image/png": "[encoded data removed]",
      "text/plain": [
       "<Figure size 432x288 with 1 Axes>"
      ]
     },
     "metadata": {
      "needs_background": "light"
     },
     "output_type": "display_data"
    }
   ],
   "source": [
    "plt.hist(R, label=\"recall\", bins=20, histtype=\"step\")\n",
    "plt.hist(P, label=\"precision\", bins=20, histtype=\"step\")\n",
    "# plt.hist(S, label=\"sensetivity\", bins=20, histtype=\"step\")\n",
    "plt.title(\"Poisson Bootstrap\")\n",
    "plt.ylabel(\"count\")\n",
    "plt.legend()\n",
    "plt.xlim(0.0, 1.05)\n",
    "plt.show()"
   ]
  },
  {
   "cell_type": "code",
   "execution_count": null,
   "metadata": {},
   "outputs": [],
   "source": []
  }
 ],
 "metadata": {
  "kernelspec": {
   "display_name": "Python 3 (ipykernel)",
   "language": "python",
   "name": "python3"
  },
  "language_info": {
   "codemirror_mode": {
    "name": "ipython",
    "version": 3
   },
   "file_extension": ".py",
   "mimetype": "text/x-python",
   "name": "python",
   "nbconvert_exporter": "python",
   "pygments_lexer": "ipython3",
   "version": "3.8.3"
  },
  "toc": {
   "base_numbering": 1,
   "nav_menu": {},
   "number_sections": true,
   "sideBar": true,
   "skip_h1_title": false,
   "title_cell": "Table of Contents",
   "title_sidebar": "Contents",
   "toc_cell": false,
   "toc_position": {},
   "toc_section_display": true,
   "toc_window_display": false
  },
  "varInspector": {
   "cols": {
    "lenName": 16,
    "lenType": 16,
    "lenVar": 40
   },
   "kernels_config": {
    "python": {
     "delete_cmd_postfix": "",
     "delete_cmd_prefix": "del ",
     "library": "var_list.py",
     "varRefreshCmd": "print(var_dic_list())"
    },
    "r": {
     "delete_cmd_postfix": ") ",
     "delete_cmd_prefix": "rm(",
     "library": "var_list.r",
     "varRefreshCmd": "cat(var_dic_list()) "
    }
   },
   "types_to_exclude": [
    "module",
    "function",
    "builtin_function_or_method",
    "instance",
    "_Feature"
   ],
   "window_display": false
  }
 },
 "nbformat": 4,
 "nbformat_minor": 4
}
